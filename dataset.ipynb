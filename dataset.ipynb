{
 "cells": [
  {
   "cell_type": "code",
   "execution_count": 27,
   "metadata": {},
   "outputs": [],
   "source": [
    "import os\n",
    "import numpy as np\n",
    "import cv2\n",
    "\n",
    "#data_dir = \"C:/Users/Frank/Pictures/Camera Roll/eye.mp4\"\n",
    "output_dir = \"D:/coding/EyeSpy/data\"\n",
    "cam = cv2.VideoCapture(\"D:\\coding\\EyeSpy\\data/eye2.mp4\")"
   ]
  },
  {
   "cell_type": "code",
   "execution_count": 25,
   "metadata": {},
   "outputs": [],
   "source": [
    "import cv2\n",
    "import os\n",
    "\n",
    "# Read the video from specified path\n",
    "cam = cv2.VideoCapture(\"D:\\coding\\EyeSpy\\data/eye2.mp4\")\n",
    "\n",
    "try:\n",
    "        # creating a folder named newdata\n",
    "        if not os.path.exists('newdata'):\n",
    "            os.makedirs('newdata')\n",
    "\n",
    "# if not created then raise error\n",
    "except OSError:\n",
    "    print ('Error: Creating directory of data')"
   ]
  },
  {
   "cell_type": "code",
   "execution_count": 28,
   "metadata": {},
   "outputs": [
    {
     "name": "stdout",
     "output_type": "stream",
     "text": [
      "Creating...D:/coding/EyeSpy/data/5.jpeg\n",
      "Creating...D:/coding/EyeSpy/data/10.jpeg\n",
      "Creating...D:/coding/EyeSpy/data/15.jpeg\n",
      "Creating...D:/coding/EyeSpy/data/20.jpeg\n",
      "Creating...D:/coding/EyeSpy/data/25.jpeg\n",
      "Creating...D:/coding/EyeSpy/data/30.jpeg\n",
      "Creating...D:/coding/EyeSpy/data/35.jpeg\n",
      "Creating...D:/coding/EyeSpy/data/40.jpeg\n",
      "Creating...D:/coding/EyeSpy/data/45.jpeg\n",
      "Creating...D:/coding/EyeSpy/data/50.jpeg\n",
      "Creating...D:/coding/EyeSpy/data/55.jpeg\n",
      "Creating...D:/coding/EyeSpy/data/60.jpeg\n",
      "Creating...D:/coding/EyeSpy/data/65.jpeg\n",
      "Creating...D:/coding/EyeSpy/data/70.jpeg\n",
      "Creating...D:/coding/EyeSpy/data/75.jpeg\n",
      "Creating...D:/coding/EyeSpy/data/80.jpeg\n",
      "Creating...D:/coding/EyeSpy/data/85.jpeg\n",
      "Creating...D:/coding/EyeSpy/data/90.jpeg\n",
      "Creating...D:/coding/EyeSpy/data/95.jpeg\n",
      "Creating...D:/coding/EyeSpy/data/100.jpeg\n",
      "Creating...D:/coding/EyeSpy/data/105.jpeg\n",
      "Creating...D:/coding/EyeSpy/data/110.jpeg\n",
      "Creating...D:/coding/EyeSpy/data/115.jpeg\n",
      "Creating...D:/coding/EyeSpy/data/120.jpeg\n",
      "Creating...D:/coding/EyeSpy/data/125.jpeg\n",
      "Creating...D:/coding/EyeSpy/data/130.jpeg\n",
      "Creating...D:/coding/EyeSpy/data/135.jpeg\n",
      "Creating...D:/coding/EyeSpy/data/140.jpeg\n",
      "Creating...D:/coding/EyeSpy/data/145.jpeg\n",
      "Creating...D:/coding/EyeSpy/data/150.jpeg\n",
      "Creating...D:/coding/EyeSpy/data/155.jpeg\n",
      "Creating...D:/coding/EyeSpy/data/160.jpeg\n",
      "Creating...D:/coding/EyeSpy/data/165.jpeg\n",
      "Creating...D:/coding/EyeSpy/data/170.jpeg\n",
      "Creating...D:/coding/EyeSpy/data/175.jpeg\n",
      "Creating...D:/coding/EyeSpy/data/180.jpeg\n",
      "Creating...D:/coding/EyeSpy/data/185.jpeg\n",
      "Creating...D:/coding/EyeSpy/data/190.jpeg\n",
      "Creating...D:/coding/EyeSpy/data/195.jpeg\n",
      "Creating...D:/coding/EyeSpy/data/200.jpeg\n",
      "Creating...D:/coding/EyeSpy/data/205.jpeg\n",
      "Creating...D:/coding/EyeSpy/data/210.jpeg\n",
      "Creating...D:/coding/EyeSpy/data/215.jpeg\n",
      "Creating...D:/coding/EyeSpy/data/220.jpeg\n",
      "Creating...D:/coding/EyeSpy/data/225.jpeg\n",
      "Creating...D:/coding/EyeSpy/data/230.jpeg\n",
      "Creating...D:/coding/EyeSpy/data/235.jpeg\n",
      "Creating...D:/coding/EyeSpy/data/240.jpeg\n",
      "Creating...D:/coding/EyeSpy/data/245.jpeg\n",
      "Creating...D:/coding/EyeSpy/data/250.jpeg\n",
      "Creating...D:/coding/EyeSpy/data/255.jpeg\n",
      "Creating...D:/coding/EyeSpy/data/260.jpeg\n",
      "Creating...D:/coding/EyeSpy/data/265.jpeg\n",
      "Creating...D:/coding/EyeSpy/data/270.jpeg\n",
      "Creating...D:/coding/EyeSpy/data/275.jpeg\n",
      "Creating...D:/coding/EyeSpy/data/280.jpeg\n",
      "Creating...D:/coding/EyeSpy/data/285.jpeg\n",
      "Creating...D:/coding/EyeSpy/data/290.jpeg\n",
      "Creating...D:/coding/EyeSpy/data/295.jpeg\n",
      "Creating...D:/coding/EyeSpy/data/300.jpeg\n",
      "Creating...D:/coding/EyeSpy/data/305.jpeg\n",
      "Creating...D:/coding/EyeSpy/data/310.jpeg\n"
     ]
    }
   ],
   "source": [
    "count = 0\n",
    "success, frame = cam.read()\n",
    "while success:\n",
    "    # if video is still left continue creating images\n",
    "\n",
    "    count += 1\n",
    "\n",
    "    if count % 5 == 0:\n",
    "        name = \"D:/coding/EyeSpy/data/\" + str(count) + '.jpeg'\n",
    "        print ('Creating...' + name)\n",
    "\n",
    "        # writing the extracted images\n",
    "        cv2.imwrite(name, frame)\n",
    "\n",
    "\n",
    "    success, frame = cam.read()\n",
    "\n",
    "# Release all space and windows once done\n",
    "cam.release()"
   ]
  }
 ],
 "metadata": {
  "kernelspec": {
   "display_name": "venv",
   "language": "python",
   "name": "python3"
  },
  "language_info": {
   "codemirror_mode": {
    "name": "ipython",
    "version": 3
   },
   "file_extension": ".py",
   "mimetype": "text/x-python",
   "name": "python",
   "nbconvert_exporter": "python",
   "pygments_lexer": "ipython3",
   "version": "3.9.4"
  },
  "orig_nbformat": 4,
  "vscode": {
   "interpreter": {
    "hash": "8af714d0f8cd41cd331ead6b9600cf6a033e63860bcb952ae190f73035cb2646"
   }
  }
 },
 "nbformat": 4,
 "nbformat_minor": 2
}
