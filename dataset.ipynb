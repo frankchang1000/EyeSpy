{
 "cells": [
  {
   "cell_type": "code",
   "execution_count": 1,
   "metadata": {},
   "outputs": [],
   "source": [
    "import os\n",
    "import numpy as np\n",
    "import cv2\n",
    "\n",
    "#data_dir = \"C:/Users/Frank/Pictures/Camera Roll/eye.mp4\"\n",
    "output_dir = \"D:/coding/EyeSpy/data\"\n",
    "cam = cv2.VideoCapture(\"D:\\coding\\EyeSpy\\data/eyenew.mp4\")"
   ]
  },
  {
   "cell_type": "code",
   "execution_count": 8,
   "metadata": {},
   "outputs": [],
   "source": [
    "import cv2\n",
    "import os\n",
    "\n",
    "# Read the video from specified path\n",
    "cam = cv2.VideoCapture(\"D:\\coding\\EyeSpy\\data/eyenew.mp4\")\n"
   ]
  },
  {
   "cell_type": "code",
   "execution_count": 9,
   "metadata": {},
   "outputs": [
    {
     "name": "stdout",
     "output_type": "stream",
     "text": [
      "Creating...D:/coding/EyeSpy/EfficientDet/data/5.jpeg\n",
      "Creating...D:/coding/EyeSpy/EfficientDet/data/10.jpeg\n",
      "Creating...D:/coding/EyeSpy/EfficientDet/data/15.jpeg\n",
      "Creating...D:/coding/EyeSpy/EfficientDet/data/20.jpeg\n",
      "Creating...D:/coding/EyeSpy/EfficientDet/data/25.jpeg\n",
      "Creating...D:/coding/EyeSpy/EfficientDet/data/30.jpeg\n",
      "Creating...D:/coding/EyeSpy/EfficientDet/data/35.jpeg\n",
      "Creating...D:/coding/EyeSpy/EfficientDet/data/40.jpeg\n",
      "Creating...D:/coding/EyeSpy/EfficientDet/data/45.jpeg\n",
      "Creating...D:/coding/EyeSpy/EfficientDet/data/50.jpeg\n",
      "Creating...D:/coding/EyeSpy/EfficientDet/data/55.jpeg\n",
      "Creating...D:/coding/EyeSpy/EfficientDet/data/60.jpeg\n",
      "Creating...D:/coding/EyeSpy/EfficientDet/data/65.jpeg\n",
      "Creating...D:/coding/EyeSpy/EfficientDet/data/70.jpeg\n",
      "Creating...D:/coding/EyeSpy/EfficientDet/data/75.jpeg\n",
      "Creating...D:/coding/EyeSpy/EfficientDet/data/80.jpeg\n",
      "Creating...D:/coding/EyeSpy/EfficientDet/data/85.jpeg\n",
      "Creating...D:/coding/EyeSpy/EfficientDet/data/90.jpeg\n",
      "Creating...D:/coding/EyeSpy/EfficientDet/data/95.jpeg\n",
      "Creating...D:/coding/EyeSpy/EfficientDet/data/100.jpeg\n",
      "Creating...D:/coding/EyeSpy/EfficientDet/data/105.jpeg\n",
      "Creating...D:/coding/EyeSpy/EfficientDet/data/110.jpeg\n",
      "Creating...D:/coding/EyeSpy/EfficientDet/data/115.jpeg\n",
      "Creating...D:/coding/EyeSpy/EfficientDet/data/120.jpeg\n",
      "Creating...D:/coding/EyeSpy/EfficientDet/data/125.jpeg\n",
      "Creating...D:/coding/EyeSpy/EfficientDet/data/130.jpeg\n",
      "Creating...D:/coding/EyeSpy/EfficientDet/data/135.jpeg\n",
      "Creating...D:/coding/EyeSpy/EfficientDet/data/140.jpeg\n",
      "Creating...D:/coding/EyeSpy/EfficientDet/data/145.jpeg\n",
      "Creating...D:/coding/EyeSpy/EfficientDet/data/150.jpeg\n",
      "Creating...D:/coding/EyeSpy/EfficientDet/data/155.jpeg\n",
      "Creating...D:/coding/EyeSpy/EfficientDet/data/160.jpeg\n",
      "Creating...D:/coding/EyeSpy/EfficientDet/data/165.jpeg\n",
      "Creating...D:/coding/EyeSpy/EfficientDet/data/170.jpeg\n",
      "Creating...D:/coding/EyeSpy/EfficientDet/data/175.jpeg\n",
      "Creating...D:/coding/EyeSpy/EfficientDet/data/180.jpeg\n",
      "Creating...D:/coding/EyeSpy/EfficientDet/data/185.jpeg\n",
      "Creating...D:/coding/EyeSpy/EfficientDet/data/190.jpeg\n",
      "Creating...D:/coding/EyeSpy/EfficientDet/data/195.jpeg\n",
      "Creating...D:/coding/EyeSpy/EfficientDet/data/200.jpeg\n",
      "Creating...D:/coding/EyeSpy/EfficientDet/data/205.jpeg\n",
      "Creating...D:/coding/EyeSpy/EfficientDet/data/210.jpeg\n",
      "Creating...D:/coding/EyeSpy/EfficientDet/data/215.jpeg\n",
      "Creating...D:/coding/EyeSpy/EfficientDet/data/220.jpeg\n",
      "Creating...D:/coding/EyeSpy/EfficientDet/data/225.jpeg\n",
      "Creating...D:/coding/EyeSpy/EfficientDet/data/230.jpeg\n",
      "Creating...D:/coding/EyeSpy/EfficientDet/data/235.jpeg\n",
      "Creating...D:/coding/EyeSpy/EfficientDet/data/240.jpeg\n",
      "Creating...D:/coding/EyeSpy/EfficientDet/data/245.jpeg\n",
      "Creating...D:/coding/EyeSpy/EfficientDet/data/250.jpeg\n",
      "Creating...D:/coding/EyeSpy/EfficientDet/data/255.jpeg\n",
      "Creating...D:/coding/EyeSpy/EfficientDet/data/260.jpeg\n",
      "Creating...D:/coding/EyeSpy/EfficientDet/data/265.jpeg\n",
      "Creating...D:/coding/EyeSpy/EfficientDet/data/270.jpeg\n",
      "Creating...D:/coding/EyeSpy/EfficientDet/data/275.jpeg\n",
      "Creating...D:/coding/EyeSpy/EfficientDet/data/280.jpeg\n",
      "Creating...D:/coding/EyeSpy/EfficientDet/data/285.jpeg\n",
      "Creating...D:/coding/EyeSpy/EfficientDet/data/290.jpeg\n",
      "Creating...D:/coding/EyeSpy/EfficientDet/data/295.jpeg\n",
      "Creating...D:/coding/EyeSpy/EfficientDet/data/300.jpeg\n",
      "Creating...D:/coding/EyeSpy/EfficientDet/data/305.jpeg\n",
      "Creating...D:/coding/EyeSpy/EfficientDet/data/310.jpeg\n",
      "Creating...D:/coding/EyeSpy/EfficientDet/data/315.jpeg\n",
      "Creating...D:/coding/EyeSpy/EfficientDet/data/320.jpeg\n"
     ]
    }
   ],
   "source": [
    "count = 0\n",
    "success, frame = cam.read()\n",
    "while success:\n",
    "    # if video is still left continue creating images\n",
    "\n",
    "    count += 1\n",
    "\n",
    "    if count % 5 == 0:\n",
    "        name = \"D:/coding/EyeSpy/EfficientDet/data/\" + str(count) + '.jpeg'\n",
    "        print ('Creating...' + name)\n",
    "\n",
    "        # writing the extracted images\n",
    "        cv2.imwrite(name, frame)\n",
    "\n",
    "\n",
    "    success, frame = cam.read()\n",
    "\n",
    "# Release all space and windows once done\n",
    "cam.release()"
   ]
  }
 ],
 "metadata": {
  "kernelspec": {
   "display_name": "venv",
   "language": "python",
   "name": "python3"
  },
  "language_info": {
   "codemirror_mode": {
    "name": "ipython",
    "version": 3
   },
   "file_extension": ".py",
   "mimetype": "text/x-python",
   "name": "python",
   "nbconvert_exporter": "python",
   "pygments_lexer": "ipython3",
   "version": "3.9.4"
  },
  "orig_nbformat": 4,
  "vscode": {
   "interpreter": {
    "hash": "8af714d0f8cd41cd331ead6b9600cf6a033e63860bcb952ae190f73035cb2646"
   }
  }
 },
 "nbformat": 4,
 "nbformat_minor": 2
}
