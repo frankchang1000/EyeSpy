{
 "cells": [
  {
   "cell_type": "code",
   "execution_count": 7,
   "metadata": {},
   "outputs": [
    {
     "name": "stdout",
     "output_type": "stream",
     "text": [
      "Error: Failed to capture frame from camera\n"
     ]
    }
   ],
   "source": [
    "import cv2\n",
    "\n",
    "vid = cv2.VideoCapture(0)\n",
    "\n",
    "# check that VideoCapture object is working correctly\n",
    "ret, frame = vid.read()\n",
    "if not ret:\n",
    "    print(\"Error: Failed to capture frame from camera\")\n",
    "elif frame is None:\n",
    "    print(\"Error: Captured frame is None\")\n",
    "else:\n",
    "    # save image frame to disk\n",
    "    if frame.shape[0] == 0 or frame.shape[1] == 0:\n",
    "        print(\"Error: Captured frame has zero height or width\")\n",
    "    else:\n",
    "        save_path = \"D:/test.png\"\n",
    "        cv2.imwrite(save_path, frame)\n",
    "        print(f\"Saved image to {save_path}\")\n"
   ]
  }
 ],
 "metadata": {
  "kernelspec": {
   "display_name": "venv",
   "language": "python",
   "name": "python3"
  },
  "language_info": {
   "codemirror_mode": {
    "name": "ipython",
    "version": 3
   },
   "file_extension": ".py",
   "mimetype": "text/x-python",
   "name": "python",
   "nbconvert_exporter": "python",
   "pygments_lexer": "ipython3",
   "version": "3.9.4"
  },
  "orig_nbformat": 4,
  "vscode": {
   "interpreter": {
    "hash": "8af714d0f8cd41cd331ead6b9600cf6a033e63860bcb952ae190f73035cb2646"
   }
  }
 },
 "nbformat": 4,
 "nbformat_minor": 2
}
